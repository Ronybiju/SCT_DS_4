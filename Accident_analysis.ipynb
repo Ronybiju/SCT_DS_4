{
 "cells": [
  {
   "cell_type": "markdown",
   "id": "d602ba60-bf2a-4aa6-b9d0-210647bb6dd2",
   "metadata": {},
   "source": [
    "**Importing Libraries**"
   ]
  },
  {
   "cell_type": "code",
   "execution_count": 2,
   "id": "bc770d1b-ddaf-4567-9a48-5bcd9d81378b",
   "metadata": {},
   "outputs": [],
   "source": [
    "import pandas as pd\n",
    "import matplotlib.pyplot as plt\n",
    "import seaborn as sns\n",
    "import plotly.express as px"
   ]
  },
  {
   "cell_type": "markdown",
   "id": "4f0158a3-5a01-4569-8d7d-76928d4d8017",
   "metadata": {},
   "source": [
    "**Reading and Loading the Dataset**"
   ]
  },
  {
   "cell_type": "code",
   "execution_count": 6,
   "id": "b62b11e0-4db4-41dc-b062-fc128e1e4026",
   "metadata": {},
   "outputs": [
    {
     "data": {
      "text/html": [
       "<div>\n",
       "<style scoped>\n",
       "    .dataframe tbody tr th:only-of-type {\n",
       "        vertical-align: middle;\n",
       "    }\n",
       "\n",
       "    .dataframe tbody tr th {\n",
       "        vertical-align: top;\n",
       "    }\n",
       "\n",
       "    .dataframe thead th {\n",
       "        text-align: right;\n",
       "    }\n",
       "</style>\n",
       "<table border=\"1\" class=\"dataframe\">\n",
       "  <thead>\n",
       "    <tr style=\"text-align: right;\">\n",
       "      <th></th>\n",
       "      <th>State Name</th>\n",
       "      <th>City Name</th>\n",
       "      <th>Year</th>\n",
       "      <th>Month</th>\n",
       "      <th>Day of Week</th>\n",
       "      <th>Time of Day</th>\n",
       "      <th>Accident Severity</th>\n",
       "      <th>Number of Vehicles Involved</th>\n",
       "      <th>Vehicle Type Involved</th>\n",
       "      <th>Number of Casualties</th>\n",
       "      <th>...</th>\n",
       "      <th>Road Type</th>\n",
       "      <th>Road Condition</th>\n",
       "      <th>Lighting Conditions</th>\n",
       "      <th>Traffic Control Presence</th>\n",
       "      <th>Speed Limit (km/h)</th>\n",
       "      <th>Driver Age</th>\n",
       "      <th>Driver Gender</th>\n",
       "      <th>Driver License Status</th>\n",
       "      <th>Alcohol Involvement</th>\n",
       "      <th>Accident Location Details</th>\n",
       "    </tr>\n",
       "  </thead>\n",
       "  <tbody>\n",
       "    <tr>\n",
       "      <th>0</th>\n",
       "      <td>Jammu and Kashmir</td>\n",
       "      <td>Unknown</td>\n",
       "      <td>2021</td>\n",
       "      <td>May</td>\n",
       "      <td>Monday</td>\n",
       "      <td>1:46</td>\n",
       "      <td>Serious</td>\n",
       "      <td>5</td>\n",
       "      <td>Cycle</td>\n",
       "      <td>0</td>\n",
       "      <td>...</td>\n",
       "      <td>National Highway</td>\n",
       "      <td>Wet</td>\n",
       "      <td>Dark</td>\n",
       "      <td>Signs</td>\n",
       "      <td>61</td>\n",
       "      <td>66</td>\n",
       "      <td>Male</td>\n",
       "      <td>NaN</td>\n",
       "      <td>Yes</td>\n",
       "      <td>Curve</td>\n",
       "    </tr>\n",
       "    <tr>\n",
       "      <th>1</th>\n",
       "      <td>Uttar Pradesh</td>\n",
       "      <td>Lucknow</td>\n",
       "      <td>2018</td>\n",
       "      <td>January</td>\n",
       "      <td>Wednesday</td>\n",
       "      <td>21:30</td>\n",
       "      <td>Minor</td>\n",
       "      <td>5</td>\n",
       "      <td>Truck</td>\n",
       "      <td>5</td>\n",
       "      <td>...</td>\n",
       "      <td>Urban Road</td>\n",
       "      <td>Dry</td>\n",
       "      <td>Dusk</td>\n",
       "      <td>Signs</td>\n",
       "      <td>92</td>\n",
       "      <td>60</td>\n",
       "      <td>Male</td>\n",
       "      <td>NaN</td>\n",
       "      <td>Yes</td>\n",
       "      <td>Straight Road</td>\n",
       "    </tr>\n",
       "    <tr>\n",
       "      <th>2</th>\n",
       "      <td>Chhattisgarh</td>\n",
       "      <td>Unknown</td>\n",
       "      <td>2023</td>\n",
       "      <td>May</td>\n",
       "      <td>Wednesday</td>\n",
       "      <td>5:37</td>\n",
       "      <td>Minor</td>\n",
       "      <td>5</td>\n",
       "      <td>Pedestrian</td>\n",
       "      <td>6</td>\n",
       "      <td>...</td>\n",
       "      <td>National Highway</td>\n",
       "      <td>Under Construction</td>\n",
       "      <td>Dawn</td>\n",
       "      <td>Signs</td>\n",
       "      <td>120</td>\n",
       "      <td>26</td>\n",
       "      <td>Female</td>\n",
       "      <td>NaN</td>\n",
       "      <td>No</td>\n",
       "      <td>Bridge</td>\n",
       "    </tr>\n",
       "    <tr>\n",
       "      <th>3</th>\n",
       "      <td>Uttar Pradesh</td>\n",
       "      <td>Lucknow</td>\n",
       "      <td>2020</td>\n",
       "      <td>June</td>\n",
       "      <td>Saturday</td>\n",
       "      <td>0:31</td>\n",
       "      <td>Minor</td>\n",
       "      <td>3</td>\n",
       "      <td>Bus</td>\n",
       "      <td>10</td>\n",
       "      <td>...</td>\n",
       "      <td>State Highway</td>\n",
       "      <td>Dry</td>\n",
       "      <td>Dark</td>\n",
       "      <td>Signals</td>\n",
       "      <td>76</td>\n",
       "      <td>34</td>\n",
       "      <td>Female</td>\n",
       "      <td>Valid</td>\n",
       "      <td>Yes</td>\n",
       "      <td>Straight Road</td>\n",
       "    </tr>\n",
       "    <tr>\n",
       "      <th>4</th>\n",
       "      <td>Sikkim</td>\n",
       "      <td>Unknown</td>\n",
       "      <td>2021</td>\n",
       "      <td>August</td>\n",
       "      <td>Thursday</td>\n",
       "      <td>11:21</td>\n",
       "      <td>Minor</td>\n",
       "      <td>5</td>\n",
       "      <td>Cycle</td>\n",
       "      <td>7</td>\n",
       "      <td>...</td>\n",
       "      <td>Urban Road</td>\n",
       "      <td>Wet</td>\n",
       "      <td>Dusk</td>\n",
       "      <td>Signs</td>\n",
       "      <td>115</td>\n",
       "      <td>30</td>\n",
       "      <td>Male</td>\n",
       "      <td>NaN</td>\n",
       "      <td>No</td>\n",
       "      <td>Intersection</td>\n",
       "    </tr>\n",
       "  </tbody>\n",
       "</table>\n",
       "<p>5 rows × 22 columns</p>\n",
       "</div>"
      ],
      "text/plain": [
       "          State Name City Name  Year    Month Day of Week Time of Day  \\\n",
       "0  Jammu and Kashmir   Unknown  2021      May      Monday        1:46   \n",
       "1      Uttar Pradesh   Lucknow  2018  January   Wednesday       21:30   \n",
       "2       Chhattisgarh   Unknown  2023      May   Wednesday        5:37   \n",
       "3      Uttar Pradesh   Lucknow  2020     June    Saturday        0:31   \n",
       "4             Sikkim   Unknown  2021   August    Thursday       11:21   \n",
       "\n",
       "  Accident Severity  Number of Vehicles Involved Vehicle Type Involved  \\\n",
       "0           Serious                            5                 Cycle   \n",
       "1             Minor                            5                 Truck   \n",
       "2             Minor                            5            Pedestrian   \n",
       "3             Minor                            3                   Bus   \n",
       "4             Minor                            5                 Cycle   \n",
       "\n",
       "   Number of Casualties  ...         Road Type      Road Condition  \\\n",
       "0                     0  ...  National Highway                 Wet   \n",
       "1                     5  ...        Urban Road                 Dry   \n",
       "2                     6  ...  National Highway  Under Construction   \n",
       "3                    10  ...     State Highway                 Dry   \n",
       "4                     7  ...        Urban Road                 Wet   \n",
       "\n",
       "  Lighting Conditions Traffic Control Presence Speed Limit (km/h) Driver Age  \\\n",
       "0                Dark                    Signs                 61         66   \n",
       "1                Dusk                    Signs                 92         60   \n",
       "2                Dawn                    Signs                120         26   \n",
       "3                Dark                  Signals                 76         34   \n",
       "4                Dusk                    Signs                115         30   \n",
       "\n",
       "   Driver Gender  Driver License Status Alcohol Involvement  \\\n",
       "0           Male                    NaN                 Yes   \n",
       "1           Male                    NaN                 Yes   \n",
       "2         Female                    NaN                  No   \n",
       "3         Female                  Valid                 Yes   \n",
       "4           Male                    NaN                  No   \n",
       "\n",
       "  Accident Location Details  \n",
       "0                     Curve  \n",
       "1             Straight Road  \n",
       "2                    Bridge  \n",
       "3             Straight Road  \n",
       "4              Intersection  \n",
       "\n",
       "[5 rows x 22 columns]"
      ]
     },
     "execution_count": 6,
     "metadata": {},
     "output_type": "execute_result"
    }
   ],
   "source": [
    "df = pd.read_csv(r\"C:\\Users\\ASUS\\Downloads\\accident_prediction_india.csv\")\n",
    "df.head()"
   ]
  },
  {
   "cell_type": "markdown",
   "id": "e5753ba2-8858-4497-b7b6-c4fb4f1745bd",
   "metadata": {},
   "source": [
    "**Handling Missing Values**"
   ]
  },
  {
   "cell_type": "code",
   "execution_count": 7,
   "id": "6da407ec-4e1e-43a4-9ac9-4621b3ff947f",
   "metadata": {},
   "outputs": [],
   "source": [
    "df.replace('Unknown', pd.NA, inplace = True)\n",
    "df['Hour'] = pd.to_datetime(df['Time of Day'], format = '%H:%M', errors = 'coerce').dt.hour"
   ]
  },
  {
   "cell_type": "code",
   "execution_count": 8,
   "id": "9894a44d-144f-4c43-ac11-617a8da3dd7b",
   "metadata": {},
   "outputs": [
    {
     "data": {
      "text/html": [
       "<div>\n",
       "<style scoped>\n",
       "    .dataframe tbody tr th:only-of-type {\n",
       "        vertical-align: middle;\n",
       "    }\n",
       "\n",
       "    .dataframe tbody tr th {\n",
       "        vertical-align: top;\n",
       "    }\n",
       "\n",
       "    .dataframe thead th {\n",
       "        text-align: right;\n",
       "    }\n",
       "</style>\n",
       "<table border=\"1\" class=\"dataframe\">\n",
       "  <thead>\n",
       "    <tr style=\"text-align: right;\">\n",
       "      <th></th>\n",
       "      <th>State Name</th>\n",
       "      <th>City Name</th>\n",
       "      <th>Year</th>\n",
       "      <th>Month</th>\n",
       "      <th>Day of Week</th>\n",
       "      <th>Time of Day</th>\n",
       "      <th>Accident Severity</th>\n",
       "      <th>Number of Vehicles Involved</th>\n",
       "      <th>Vehicle Type Involved</th>\n",
       "      <th>Number of Casualties</th>\n",
       "      <th>...</th>\n",
       "      <th>Road Condition</th>\n",
       "      <th>Lighting Conditions</th>\n",
       "      <th>Traffic Control Presence</th>\n",
       "      <th>Speed Limit (km/h)</th>\n",
       "      <th>Driver Age</th>\n",
       "      <th>Driver Gender</th>\n",
       "      <th>Driver License Status</th>\n",
       "      <th>Alcohol Involvement</th>\n",
       "      <th>Accident Location Details</th>\n",
       "      <th>Hour</th>\n",
       "    </tr>\n",
       "  </thead>\n",
       "  <tbody>\n",
       "    <tr>\n",
       "      <th>0</th>\n",
       "      <td>Jammu and Kashmir</td>\n",
       "      <td>&lt;NA&gt;</td>\n",
       "      <td>2021</td>\n",
       "      <td>May</td>\n",
       "      <td>Monday</td>\n",
       "      <td>1:46</td>\n",
       "      <td>Serious</td>\n",
       "      <td>5</td>\n",
       "      <td>Cycle</td>\n",
       "      <td>0</td>\n",
       "      <td>...</td>\n",
       "      <td>Wet</td>\n",
       "      <td>Dark</td>\n",
       "      <td>Signs</td>\n",
       "      <td>61</td>\n",
       "      <td>66</td>\n",
       "      <td>Male</td>\n",
       "      <td>NaN</td>\n",
       "      <td>Yes</td>\n",
       "      <td>Curve</td>\n",
       "      <td>1</td>\n",
       "    </tr>\n",
       "    <tr>\n",
       "      <th>1</th>\n",
       "      <td>Uttar Pradesh</td>\n",
       "      <td>Lucknow</td>\n",
       "      <td>2018</td>\n",
       "      <td>January</td>\n",
       "      <td>Wednesday</td>\n",
       "      <td>21:30</td>\n",
       "      <td>Minor</td>\n",
       "      <td>5</td>\n",
       "      <td>Truck</td>\n",
       "      <td>5</td>\n",
       "      <td>...</td>\n",
       "      <td>Dry</td>\n",
       "      <td>Dusk</td>\n",
       "      <td>Signs</td>\n",
       "      <td>92</td>\n",
       "      <td>60</td>\n",
       "      <td>Male</td>\n",
       "      <td>NaN</td>\n",
       "      <td>Yes</td>\n",
       "      <td>Straight Road</td>\n",
       "      <td>21</td>\n",
       "    </tr>\n",
       "    <tr>\n",
       "      <th>2</th>\n",
       "      <td>Chhattisgarh</td>\n",
       "      <td>&lt;NA&gt;</td>\n",
       "      <td>2023</td>\n",
       "      <td>May</td>\n",
       "      <td>Wednesday</td>\n",
       "      <td>5:37</td>\n",
       "      <td>Minor</td>\n",
       "      <td>5</td>\n",
       "      <td>Pedestrian</td>\n",
       "      <td>6</td>\n",
       "      <td>...</td>\n",
       "      <td>Under Construction</td>\n",
       "      <td>Dawn</td>\n",
       "      <td>Signs</td>\n",
       "      <td>120</td>\n",
       "      <td>26</td>\n",
       "      <td>Female</td>\n",
       "      <td>NaN</td>\n",
       "      <td>No</td>\n",
       "      <td>Bridge</td>\n",
       "      <td>5</td>\n",
       "    </tr>\n",
       "    <tr>\n",
       "      <th>3</th>\n",
       "      <td>Uttar Pradesh</td>\n",
       "      <td>Lucknow</td>\n",
       "      <td>2020</td>\n",
       "      <td>June</td>\n",
       "      <td>Saturday</td>\n",
       "      <td>0:31</td>\n",
       "      <td>Minor</td>\n",
       "      <td>3</td>\n",
       "      <td>Bus</td>\n",
       "      <td>10</td>\n",
       "      <td>...</td>\n",
       "      <td>Dry</td>\n",
       "      <td>Dark</td>\n",
       "      <td>Signals</td>\n",
       "      <td>76</td>\n",
       "      <td>34</td>\n",
       "      <td>Female</td>\n",
       "      <td>Valid</td>\n",
       "      <td>Yes</td>\n",
       "      <td>Straight Road</td>\n",
       "      <td>0</td>\n",
       "    </tr>\n",
       "    <tr>\n",
       "      <th>4</th>\n",
       "      <td>Sikkim</td>\n",
       "      <td>&lt;NA&gt;</td>\n",
       "      <td>2021</td>\n",
       "      <td>August</td>\n",
       "      <td>Thursday</td>\n",
       "      <td>11:21</td>\n",
       "      <td>Minor</td>\n",
       "      <td>5</td>\n",
       "      <td>Cycle</td>\n",
       "      <td>7</td>\n",
       "      <td>...</td>\n",
       "      <td>Wet</td>\n",
       "      <td>Dusk</td>\n",
       "      <td>Signs</td>\n",
       "      <td>115</td>\n",
       "      <td>30</td>\n",
       "      <td>Male</td>\n",
       "      <td>NaN</td>\n",
       "      <td>No</td>\n",
       "      <td>Intersection</td>\n",
       "      <td>11</td>\n",
       "    </tr>\n",
       "    <tr>\n",
       "      <th>...</th>\n",
       "      <td>...</td>\n",
       "      <td>...</td>\n",
       "      <td>...</td>\n",
       "      <td>...</td>\n",
       "      <td>...</td>\n",
       "      <td>...</td>\n",
       "      <td>...</td>\n",
       "      <td>...</td>\n",
       "      <td>...</td>\n",
       "      <td>...</td>\n",
       "      <td>...</td>\n",
       "      <td>...</td>\n",
       "      <td>...</td>\n",
       "      <td>...</td>\n",
       "      <td>...</td>\n",
       "      <td>...</td>\n",
       "      <td>...</td>\n",
       "      <td>...</td>\n",
       "      <td>...</td>\n",
       "      <td>...</td>\n",
       "      <td>...</td>\n",
       "    </tr>\n",
       "    <tr>\n",
       "      <th>2995</th>\n",
       "      <td>Tamil Nadu</td>\n",
       "      <td>Chennai</td>\n",
       "      <td>2021</td>\n",
       "      <td>January</td>\n",
       "      <td>Sunday</td>\n",
       "      <td>1:15</td>\n",
       "      <td>Minor</td>\n",
       "      <td>5</td>\n",
       "      <td>Truck</td>\n",
       "      <td>4</td>\n",
       "      <td>...</td>\n",
       "      <td>Wet</td>\n",
       "      <td>Dark</td>\n",
       "      <td>Signs</td>\n",
       "      <td>74</td>\n",
       "      <td>43</td>\n",
       "      <td>Male</td>\n",
       "      <td>Expired</td>\n",
       "      <td>Yes</td>\n",
       "      <td>Intersection</td>\n",
       "      <td>1</td>\n",
       "    </tr>\n",
       "    <tr>\n",
       "      <th>2996</th>\n",
       "      <td>Uttarakhand</td>\n",
       "      <td>&lt;NA&gt;</td>\n",
       "      <td>2018</td>\n",
       "      <td>July</td>\n",
       "      <td>Sunday</td>\n",
       "      <td>10:12</td>\n",
       "      <td>Fatal</td>\n",
       "      <td>3</td>\n",
       "      <td>Car</td>\n",
       "      <td>3</td>\n",
       "      <td>...</td>\n",
       "      <td>Under Construction</td>\n",
       "      <td>Daylight</td>\n",
       "      <td>NaN</td>\n",
       "      <td>86</td>\n",
       "      <td>23</td>\n",
       "      <td>Female</td>\n",
       "      <td>NaN</td>\n",
       "      <td>Yes</td>\n",
       "      <td>Intersection</td>\n",
       "      <td>10</td>\n",
       "    </tr>\n",
       "    <tr>\n",
       "      <th>2997</th>\n",
       "      <td>Meghalaya</td>\n",
       "      <td>&lt;NA&gt;</td>\n",
       "      <td>2021</td>\n",
       "      <td>January</td>\n",
       "      <td>Thursday</td>\n",
       "      <td>19:34</td>\n",
       "      <td>Minor</td>\n",
       "      <td>2</td>\n",
       "      <td>Two-Wheeler</td>\n",
       "      <td>8</td>\n",
       "      <td>...</td>\n",
       "      <td>Dry</td>\n",
       "      <td>Dark</td>\n",
       "      <td>Signs</td>\n",
       "      <td>47</td>\n",
       "      <td>57</td>\n",
       "      <td>Female</td>\n",
       "      <td>Valid</td>\n",
       "      <td>Yes</td>\n",
       "      <td>Intersection</td>\n",
       "      <td>19</td>\n",
       "    </tr>\n",
       "    <tr>\n",
       "      <th>2998</th>\n",
       "      <td>Meghalaya</td>\n",
       "      <td>&lt;NA&gt;</td>\n",
       "      <td>2023</td>\n",
       "      <td>June</td>\n",
       "      <td>Sunday</td>\n",
       "      <td>20:54</td>\n",
       "      <td>Fatal</td>\n",
       "      <td>1</td>\n",
       "      <td>Cycle</td>\n",
       "      <td>9</td>\n",
       "      <td>...</td>\n",
       "      <td>Under Construction</td>\n",
       "      <td>Daylight</td>\n",
       "      <td>Signs</td>\n",
       "      <td>60</td>\n",
       "      <td>28</td>\n",
       "      <td>Female</td>\n",
       "      <td>Expired</td>\n",
       "      <td>Yes</td>\n",
       "      <td>Bridge</td>\n",
       "      <td>20</td>\n",
       "    </tr>\n",
       "    <tr>\n",
       "      <th>2999</th>\n",
       "      <td>Arunachal Pradesh</td>\n",
       "      <td>&lt;NA&gt;</td>\n",
       "      <td>2020</td>\n",
       "      <td>September</td>\n",
       "      <td>Monday</td>\n",
       "      <td>7:19</td>\n",
       "      <td>Fatal</td>\n",
       "      <td>5</td>\n",
       "      <td>Cycle</td>\n",
       "      <td>1</td>\n",
       "      <td>...</td>\n",
       "      <td>Under Construction</td>\n",
       "      <td>Daylight</td>\n",
       "      <td>NaN</td>\n",
       "      <td>40</td>\n",
       "      <td>66</td>\n",
       "      <td>Male</td>\n",
       "      <td>NaN</td>\n",
       "      <td>Yes</td>\n",
       "      <td>Bridge</td>\n",
       "      <td>7</td>\n",
       "    </tr>\n",
       "  </tbody>\n",
       "</table>\n",
       "<p>3000 rows × 23 columns</p>\n",
       "</div>"
      ],
      "text/plain": [
       "             State Name City Name  Year      Month Day of Week Time of Day  \\\n",
       "0     Jammu and Kashmir      <NA>  2021        May      Monday        1:46   \n",
       "1         Uttar Pradesh   Lucknow  2018    January   Wednesday       21:30   \n",
       "2          Chhattisgarh      <NA>  2023        May   Wednesday        5:37   \n",
       "3         Uttar Pradesh   Lucknow  2020       June    Saturday        0:31   \n",
       "4                Sikkim      <NA>  2021     August    Thursday       11:21   \n",
       "...                 ...       ...   ...        ...         ...         ...   \n",
       "2995         Tamil Nadu   Chennai  2021    January      Sunday        1:15   \n",
       "2996        Uttarakhand      <NA>  2018       July      Sunday       10:12   \n",
       "2997          Meghalaya      <NA>  2021    January    Thursday       19:34   \n",
       "2998          Meghalaya      <NA>  2023       June      Sunday       20:54   \n",
       "2999  Arunachal Pradesh      <NA>  2020  September      Monday        7:19   \n",
       "\n",
       "     Accident Severity  Number of Vehicles Involved Vehicle Type Involved  \\\n",
       "0              Serious                            5                 Cycle   \n",
       "1                Minor                            5                 Truck   \n",
       "2                Minor                            5            Pedestrian   \n",
       "3                Minor                            3                   Bus   \n",
       "4                Minor                            5                 Cycle   \n",
       "...                ...                          ...                   ...   \n",
       "2995             Minor                            5                 Truck   \n",
       "2996             Fatal                            3                   Car   \n",
       "2997             Minor                            2           Two-Wheeler   \n",
       "2998             Fatal                            1                 Cycle   \n",
       "2999             Fatal                            5                 Cycle   \n",
       "\n",
       "      Number of Casualties  ...      Road Condition Lighting Conditions  \\\n",
       "0                        0  ...                 Wet                Dark   \n",
       "1                        5  ...                 Dry                Dusk   \n",
       "2                        6  ...  Under Construction                Dawn   \n",
       "3                       10  ...                 Dry                Dark   \n",
       "4                        7  ...                 Wet                Dusk   \n",
       "...                    ...  ...                 ...                 ...   \n",
       "2995                     4  ...                 Wet                Dark   \n",
       "2996                     3  ...  Under Construction            Daylight   \n",
       "2997                     8  ...                 Dry                Dark   \n",
       "2998                     9  ...  Under Construction            Daylight   \n",
       "2999                     1  ...  Under Construction            Daylight   \n",
       "\n",
       "     Traffic Control Presence Speed Limit (km/h) Driver Age Driver Gender  \\\n",
       "0                       Signs                 61         66          Male   \n",
       "1                       Signs                 92         60          Male   \n",
       "2                       Signs                120         26        Female   \n",
       "3                     Signals                 76         34        Female   \n",
       "4                       Signs                115         30          Male   \n",
       "...                       ...                ...        ...           ...   \n",
       "2995                    Signs                 74         43          Male   \n",
       "2996                      NaN                 86         23        Female   \n",
       "2997                    Signs                 47         57        Female   \n",
       "2998                    Signs                 60         28        Female   \n",
       "2999                      NaN                 40         66          Male   \n",
       "\n",
       "      Driver License Status  Alcohol Involvement Accident Location Details  \\\n",
       "0                       NaN                  Yes                     Curve   \n",
       "1                       NaN                  Yes             Straight Road   \n",
       "2                       NaN                   No                    Bridge   \n",
       "3                     Valid                  Yes             Straight Road   \n",
       "4                       NaN                   No              Intersection   \n",
       "...                     ...                  ...                       ...   \n",
       "2995                Expired                  Yes              Intersection   \n",
       "2996                    NaN                  Yes              Intersection   \n",
       "2997                  Valid                  Yes              Intersection   \n",
       "2998                Expired                  Yes                    Bridge   \n",
       "2999                    NaN                  Yes                    Bridge   \n",
       "\n",
       "     Hour  \n",
       "0       1  \n",
       "1      21  \n",
       "2       5  \n",
       "3       0  \n",
       "4      11  \n",
       "...   ...  \n",
       "2995    1  \n",
       "2996   10  \n",
       "2997   19  \n",
       "2998   20  \n",
       "2999    7  \n",
       "\n",
       "[3000 rows x 23 columns]"
      ]
     },
     "execution_count": 8,
     "metadata": {},
     "output_type": "execute_result"
    }
   ],
   "source": [
    "df"
   ]
  },
  {
   "cell_type": "markdown",
   "id": "f5bd94fd-9de2-454a-bb7c-1b316cea2d6f",
   "metadata": {},
   "source": [
    "**Analysing Pattern**"
   ]
  },
  {
   "cell_type": "markdown",
   "id": "7f488b5a-f248-43af-a0a0-97cbbe9b1688",
   "metadata": {},
   "source": [
    "**A. TIME OF DAY ANALYSIS**"
   ]
  },
  {
   "cell_type": "code",
   "execution_count": 9,
   "id": "d4364310-69cd-4c74-ad46-86901045196b",
   "metadata": {},
   "outputs": [
    {
     "data": {
      "text/plain": [
       "<Axes: title={'center': 'Accident By Hour'}, xlabel='Hour'>"
      ]
     },
     "execution_count": 9,
     "metadata": {},
     "output_type": "execute_result"
    },
    {
     "data": {
      "image/png": "[encoded data removed]",
      "text/plain": [
       "<Figure size 640x480 with 1 Axes>"
      ]
     },
     "metadata": {},
     "output_type": "display_data"
    }
   ],
   "source": [
    "df['Hour'].value_counts().sort_index().plot(kind = 'bar', title = 'Accident By Hour')"
   ]
  },
  {
   "cell_type": "markdown",
   "id": "5e631837-d4dc-4de0-8ba0-dcb378ce6bee",
   "metadata": {},
   "source": [
    "**B. Weather Conditions**"
   ]
  },
  {
   "cell_type": "code",
   "execution_count": 11,
   "id": "a3c247bd-4fbb-480a-a975-19ff816eb5e0",
   "metadata": {},
   "outputs": [
    {
     "data": {
      "text/plain": [
       "<Axes: title={'center': 'Accidents by Weather'}, xlabel='Weather Conditions'>"
      ]
     },
     "execution_count": 11,
     "metadata": {},
     "output_type": "execute_result"
    },
    {
     "data": {
      "image/png": "[encoded data removed]",
      "text/plain": [
       "<Figure size 640x480 with 1 Axes>"
      ]
     },
     "metadata": {},
     "output_type": "display_data"
    }
   ],
   "source": [
    "df['Weather Conditions'].value_counts().plot(kind = 'bar', title = 'Accidents by Weather')"
   ]
  },
  {
   "cell_type": "markdown",
   "id": "e505f573-1e71-490b-9c07-7736621f598d",
   "metadata": {},
   "source": [
    "**C. Road Conditions**"
   ]
  },
  {
   "cell_type": "code",
   "execution_count": 12,
   "id": "9c307be0-7d88-4c80-a4eb-1109e5699957",
   "metadata": {},
   "outputs": [
    {
     "data": {
      "text/plain": [
       "<Axes: title={'center': 'Accidents by Road Condition'}, xlabel='Road Condition'>"
      ]
     },
     "execution_count": 12,
     "metadata": {},
     "output_type": "execute_result"
    },
    {
     "data": {
      "image/png": "[encoded data removed]",
      "text/plain": [
       "<Figure size 640x480 with 1 Axes>"
      ]
     },
     "metadata": {},
     "output_type": "display_data"
    }
   ],
   "source": [
    "df['Road Condition'].value_counts().plot(kind='bar', title='Accidents by Road Condition')"
   ]
  },
  {
   "cell_type": "markdown",
   "id": "7c06c849-1a75-4422-82df-c1fb037d25a8",
   "metadata": {},
   "source": [
    "**Visualizing Contributing Factors**"
   ]
  },
  {
   "cell_type": "markdown",
   "id": "87900de4-f1e7-4ca8-9224-a499a2d59ba8",
   "metadata": {},
   "source": [
    "**A. Severity Vs Weather & Road**"
   ]
  },
  {
   "cell_type": "code",
   "execution_count": 13,
   "id": "019e5f3c-538b-4a5b-9b6d-0ba0b0924324",
   "metadata": {},
   "outputs": [
    {
     "data": {
      "text/plain": [
       "Text(0.5, 1.0, 'Severity by Weather')"
      ]
     },
     "execution_count": 13,
     "metadata": {},
     "output_type": "execute_result"
    },
    {
     "data": {
      "image/png": "[encoded data removed]",
      "text/plain": [
       "<Figure size 1200x500 with 1 Axes>"
      ]
     },
     "metadata": {},
     "output_type": "display_data"
    }
   ],
   "source": [
    "import seaborn as sns\n",
    "import matplotlib.pyplot as plt\n",
    "\n",
    "plt.figure(figsize=(12, 5))\n",
    "sns.countplot(data=df, x='Weather Conditions', hue='Accident Severity')\n",
    "plt.xticks(rotation=45)\n",
    "plt.title('Severity by Weather')\n"
   ]
  },
  {
   "cell_type": "markdown",
   "id": "e6790541-972a-4461-acac-4de10907a211",
   "metadata": {},
   "source": [
    "**B. Alcohol Involvement**"
   ]
  },
  {
   "cell_type": "code",
   "execution_count": 14,
   "id": "d13909c6-f1f8-4265-9483-6ee43b5f32fc",
   "metadata": {},
   "outputs": [
    {
     "data": {
      "text/plain": [
       "<Axes: title={'center': 'Alcohol Involvement in Accidents'}, ylabel='count'>"
      ]
     },
     "execution_count": 14,
     "metadata": {},
     "output_type": "execute_result"
    },
    {
     "data": {
      "image/png": "[encoded data removed]",
      "text/plain": [
       "<Figure size 640x480 with 1 Axes>"
      ]
     },
     "metadata": {},
     "output_type": "display_data"
    }
   ],
   "source": [
    "df['Alcohol Involvement'].value_counts().plot(kind='pie', autopct='%1.1f%%', title='Alcohol Involvement in Accidents')"
   ]
  },
  {
   "cell_type": "markdown",
   "id": "1c42d1fd-dd0b-4311-ba47-1747a3a35ca7",
   "metadata": {},
   "source": [
    "**Accident Prone Cities**"
   ]
  },
  {
   "cell_type": "code",
   "execution_count": 15,
   "id": "8e4f0c9e-fdf5-4e50-ad6b-081d261f5795",
   "metadata": {},
   "outputs": [
    {
     "data": {
      "text/plain": [
       "<Axes: title={'center': 'Top 10 Accident-Prone Cities'}, xlabel='City Name'>"
      ]
     },
     "execution_count": 15,
     "metadata": {},
     "output_type": "execute_result"
    },
    {
     "data": {
      "image/png": "[encoded data removed]",
      "text/plain": [
       "<Figure size 640x480 with 1 Axes>"
      ]
     },
     "metadata": {},
     "output_type": "display_data"
    }
   ],
   "source": [
    "top_cities = df['City Name'].value_counts().head(10)\n",
    "top_cities.plot(kind='bar', title='Top 10 Accident-Prone Cities')"
   ]
  }
 ],
 "metadata": {
  "kernelspec": {
   "display_name": "Python [conda env:base] *",
   "language": "python",
   "name": "conda-base-py"
  },
  "language_info": {
   "codemirror_mode": {
    "name": "ipython",
    "version": 3
   },
   "file_extension": ".py",
   "mimetype": "text/x-python",
   "name": "python",
   "nbconvert_exporter": "python",
   "pygments_lexer": "ipython3",
   "version": "3.12.3"
  }
 },
 "nbformat": 4,
 "nbformat_minor": 5
}
